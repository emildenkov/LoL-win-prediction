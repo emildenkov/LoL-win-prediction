{
 "cells": [
  {
   "metadata": {},
   "cell_type": "code",
   "source": [
    "import pandas as pd\n",
    "import json"
   ],
   "id": "initial_id",
   "outputs": [],
   "execution_count": null
  },
  {
   "metadata": {},
   "cell_type": "code",
   "source": "df = pd.read_csv('games.csv')",
   "id": "6c150aefa46b81c0",
   "outputs": [],
   "execution_count": null
  },
  {
   "metadata": {},
   "cell_type": "code",
   "source": "champ_data = json.load(open('champion_info.json'))",
   "id": "65a67d446f7cb475",
   "outputs": [],
   "execution_count": null
  },
  {
   "metadata": {},
   "cell_type": "code",
   "source": [
    "df['t1_champ1'] = df['t1_champ1id'].apply(lambda x: champ_data['data'][str(x)]['name'])\n",
    "df['t1_champ2'] = df['t1_champ2id'].apply(lambda x: champ_data['data'][str(x)]['name'])\n",
    "df['t1_champ3'] = df['t1_champ3id'].apply(lambda x: champ_data['data'][str(x)]['name'])\n",
    "df['t1_champ4'] = df['t1_champ4id'].apply(lambda x: champ_data['data'][str(x)]['name'])\n",
    "df['t1_champ5'] = df['t1_champ5id'].apply(lambda x: champ_data['data'][str(x)]['name'])\n",
    "\n",
    "df['t2_champ1'] = df['t2_champ1id'].apply(lambda x: champ_data['data'][str(x)]['name'])\n",
    "df['t2_champ2'] = df['t2_champ2id'].apply(lambda x: champ_data['data'][str(x)]['name'])\n",
    "df['t2_champ3'] = df['t2_champ3id'].apply(lambda x: champ_data['data'][str(x)]['name'])\n",
    "df['t2_champ4'] = df['t2_champ4id'].apply(lambda x: champ_data['data'][str(x)]['name'])\n",
    "df['t2_champ5'] = df['t2_champ5id'].apply(lambda x: champ_data['data'][str(x)]['name'])\n"
   ],
   "id": "7ca0b3a9aa38ff79",
   "outputs": [],
   "execution_count": null
  },
  {
   "metadata": {},
   "cell_type": "code",
   "source": "df = df[['t1_champ1', 't1_champ2', 't1_champ3', 't1_champ4', 't1_champ5', 't2_champ1', 't2_champ2', 't2_champ3', 't2_champ4', 't2_champ5','firstBlood', 'firstDragon','firstTower','firstBaron', 'winner']]",
   "id": "e975bb4541c1ea42",
   "outputs": [],
   "execution_count": null
  },
  {
   "metadata": {},
   "cell_type": "code",
   "source": [
    "encodings_team_1 = [pd.get_dummies(df[col], prefix='t1') for col in ['t1_champ1', 't1_champ2', 't1_champ3', 't1_champ4', 't1_champ5']]\n",
    "combined_df1 = sum(encodings_team_1)\n",
    "\n",
    "encodings_team_2 = [pd.get_dummies(df[col], prefix='t2') for col in ['t2_champ1', 't2_champ2', 't2_champ3', 't2_champ4', 't2_champ5']]\n",
    "combined_df2 = sum(encodings_team_2)\n",
    "\n",
    "df = df.join(combined_df1).join(combined_df2)"
   ],
   "id": "1cf9a260dfedeb92",
   "outputs": [],
   "execution_count": null
  },
  {
   "metadata": {},
   "cell_type": "code",
   "source": "df = df.drop(['t1_champ1', 't1_champ2', 't1_champ3', 't1_champ4', 't1_champ5', 't2_champ1', 't2_champ2', 't2_champ3', 't2_champ4', 't2_champ5'], axis=1)\n",
   "id": "64e4df6be17c9dad",
   "outputs": [],
   "execution_count": null
  },
  {
   "metadata": {},
   "cell_type": "code",
   "source": [
    "from sklearn.model_selection import train_test_split\n",
    "from sklearn.ensemble import RandomForestClassifier\n",
    "\n",
    "X, y = df.drop('winner', axis=1), df['winner']\n",
    "\n",
    "X_train, X_test, y_train, y_test = train_test_split(X, y, test_size=0.2) \n",
    "\n",
    "clf = RandomForestClassifier(n_jobs=-1)\n",
    "clf.fit(X_train, y_train)\n",
    "clf.score(X_test, y_test)"
   ],
   "id": "2696123903328ccb",
   "outputs": [],
   "execution_count": null
  },
  {
   "metadata": {},
   "cell_type": "code",
   "source": [
    "importances = dict(zip(clf.feature_names_in_, clf.feature_importances_))\n",
    "sorted_importances = sorted(importances.items(), key=lambda x: x[1], reverse=True)"
   ],
   "id": "e3e349e7f04930a",
   "outputs": [],
   "execution_count": null
  },
  {
   "metadata": {},
   "cell_type": "code",
   "source": [
    "champ_name = 'Thresh'\n",
    "\n",
    "wins1 = len(df[(df[f't1_{champ_name}'] == 1) & (df['winner'] == 1)])\n",
    "wins2 = len(df[(df[f't2_{champ_name}'] == 1) & (df['winner'] == 2)])\n",
    "losses1 = len(df[(df[f't1_{champ_name}'] == 1) & (df['winner'] == 2)])\n",
    "losses2 = len(df[(df[f't2_{champ_name}'] == 1) & (df['winner'] == 1)])\n",
    "\n",
    "print((wins1 + wins2) / (wins1 + wins2 + losses1 + losses2))"
   ],
   "id": "db396b8ff8f4670f",
   "outputs": [],
   "execution_count": null
  },
  {
   "metadata": {},
   "cell_type": "code",
   "source": "",
   "id": "17440298de6f33b5",
   "outputs": [],
   "execution_count": null
  }
 ],
 "metadata": {
  "kernelspec": {
   "display_name": "Python 3",
   "language": "python",
   "name": "python3"
  },
  "language_info": {
   "codemirror_mode": {
    "name": "ipython",
    "version": 2
   },
   "file_extension": ".py",
   "mimetype": "text/x-python",
   "name": "python",
   "nbconvert_exporter": "python",
   "pygments_lexer": "ipython2",
   "version": "2.7.6"
  }
 },
 "nbformat": 4,
 "nbformat_minor": 5
}
